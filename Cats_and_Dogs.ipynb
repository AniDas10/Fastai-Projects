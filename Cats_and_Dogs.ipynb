{
  "nbformat": 4,
  "nbformat_minor": 0,
  "metadata": {
    "colab": {
      "name": "Cats and Dogs.ipynb",
      "provenance": [],
      "authorship_tag": "ABX9TyMH+hssfSgOPKWBtSeAfj4i",
      "include_colab_link": true
    },
    "kernelspec": {
      "name": "python3",
      "display_name": "Python 3"
    },
    "accelerator": "GPU"
  },
  "cells": [
    {
      "cell_type": "markdown",
      "metadata": {
        "id": "view-in-github",
        "colab_type": "text"
      },
      "source": [
        "<a href=\"https://colab.research.google.com/github/AniDas10/Fastai-Projects/blob/master/Cats_and_Dogs.ipynb\" target=\"_parent\"><img src=\"https://colab.research.google.com/assets/colab-badge.svg\" alt=\"Open In Colab\"/></a>"
      ]
    },
    {
      "cell_type": "code",
      "metadata": {
        "colab": {
          "base_uri": "https://localhost:8080/"
        },
        "id": "7VFCTEUaqgHy",
        "outputId": "96ff990c-4a10-4b1d-ed25-a50cd8a97e02"
      },
      "source": [
        "!pip install -Uqq fastbook\r\n",
        "import fastbook\r\n",
        "fastbook.setup_book()\r\n"
      ],
      "execution_count": 1,
      "outputs": [
        {
          "output_type": "stream",
          "text": [
            "\u001b[?25l\r\u001b[K     |▌                               | 10kB 27.5MB/s eta 0:00:01\r\u001b[K     |█                               | 20kB 34.3MB/s eta 0:00:01\r\u001b[K     |█▍                              | 30kB 23.3MB/s eta 0:00:01\r\u001b[K     |█▉                              | 40kB 18.7MB/s eta 0:00:01\r\u001b[K     |██▎                             | 51kB 15.4MB/s eta 0:00:01\r\u001b[K     |██▊                             | 61kB 14.4MB/s eta 0:00:01\r\u001b[K     |███▏                            | 71kB 13.8MB/s eta 0:00:01\r\u001b[K     |███▋                            | 81kB 13.3MB/s eta 0:00:01\r\u001b[K     |████                            | 92kB 13.1MB/s eta 0:00:01\r\u001b[K     |████▌                           | 102kB 12.8MB/s eta 0:00:01\r\u001b[K     |█████                           | 112kB 12.8MB/s eta 0:00:01\r\u001b[K     |█████▌                          | 122kB 12.8MB/s eta 0:00:01\r\u001b[K     |██████                          | 133kB 12.8MB/s eta 0:00:01\r\u001b[K     |██████▍                         | 143kB 12.8MB/s eta 0:00:01\r\u001b[K     |██████▉                         | 153kB 12.8MB/s eta 0:00:01\r\u001b[K     |███████▎                        | 163kB 12.8MB/s eta 0:00:01\r\u001b[K     |███████▊                        | 174kB 12.8MB/s eta 0:00:01\r\u001b[K     |████████▏                       | 184kB 12.8MB/s eta 0:00:01\r\u001b[K     |████████▋                       | 194kB 12.8MB/s eta 0:00:01\r\u001b[K     |█████████                       | 204kB 12.8MB/s eta 0:00:01\r\u001b[K     |█████████▋                      | 215kB 12.8MB/s eta 0:00:01\r\u001b[K     |██████████                      | 225kB 12.8MB/s eta 0:00:01\r\u001b[K     |██████████▌                     | 235kB 12.8MB/s eta 0:00:01\r\u001b[K     |███████████                     | 245kB 12.8MB/s eta 0:00:01\r\u001b[K     |███████████▍                    | 256kB 12.8MB/s eta 0:00:01\r\u001b[K     |███████████▉                    | 266kB 12.8MB/s eta 0:00:01\r\u001b[K     |████████████▎                   | 276kB 12.8MB/s eta 0:00:01\r\u001b[K     |████████████▊                   | 286kB 12.8MB/s eta 0:00:01\r\u001b[K     |█████████████▏                  | 296kB 12.8MB/s eta 0:00:01\r\u001b[K     |█████████████▋                  | 307kB 12.8MB/s eta 0:00:01\r\u001b[K     |██████████████                  | 317kB 12.8MB/s eta 0:00:01\r\u001b[K     |██████████████▋                 | 327kB 12.8MB/s eta 0:00:01\r\u001b[K     |███████████████                 | 337kB 12.8MB/s eta 0:00:01\r\u001b[K     |███████████████▌                | 348kB 12.8MB/s eta 0:00:01\r\u001b[K     |████████████████                | 358kB 12.8MB/s eta 0:00:01\r\u001b[K     |████████████████▍               | 368kB 12.8MB/s eta 0:00:01\r\u001b[K     |████████████████▉               | 378kB 12.8MB/s eta 0:00:01\r\u001b[K     |█████████████████▎              | 389kB 12.8MB/s eta 0:00:01\r\u001b[K     |█████████████████▊              | 399kB 12.8MB/s eta 0:00:01\r\u001b[K     |██████████████████▏             | 409kB 12.8MB/s eta 0:00:01\r\u001b[K     |██████████████████▋             | 419kB 12.8MB/s eta 0:00:01\r\u001b[K     |███████████████████▏            | 430kB 12.8MB/s eta 0:00:01\r\u001b[K     |███████████████████▋            | 440kB 12.8MB/s eta 0:00:01\r\u001b[K     |████████████████████            | 450kB 12.8MB/s eta 0:00:01\r\u001b[K     |████████████████████▌           | 460kB 12.8MB/s eta 0:00:01\r\u001b[K     |█████████████████████           | 471kB 12.8MB/s eta 0:00:01\r\u001b[K     |█████████████████████▍          | 481kB 12.8MB/s eta 0:00:01\r\u001b[K     |█████████████████████▉          | 491kB 12.8MB/s eta 0:00:01\r\u001b[K     |██████████████████████▎         | 501kB 12.8MB/s eta 0:00:01\r\u001b[K     |██████████████████████▊         | 512kB 12.8MB/s eta 0:00:01\r\u001b[K     |███████████████████████▏        | 522kB 12.8MB/s eta 0:00:01\r\u001b[K     |███████████████████████▋        | 532kB 12.8MB/s eta 0:00:01\r\u001b[K     |████████████████████████▏       | 542kB 12.8MB/s eta 0:00:01\r\u001b[K     |████████████████████████▋       | 552kB 12.8MB/s eta 0:00:01\r\u001b[K     |█████████████████████████       | 563kB 12.8MB/s eta 0:00:01\r\u001b[K     |█████████████████████████▌      | 573kB 12.8MB/s eta 0:00:01\r\u001b[K     |██████████████████████████      | 583kB 12.8MB/s eta 0:00:01\r\u001b[K     |██████████████████████████▍     | 593kB 12.8MB/s eta 0:00:01\r\u001b[K     |██████████████████████████▉     | 604kB 12.8MB/s eta 0:00:01\r\u001b[K     |███████████████████████████▎    | 614kB 12.8MB/s eta 0:00:01\r\u001b[K     |███████████████████████████▊    | 624kB 12.8MB/s eta 0:00:01\r\u001b[K     |████████████████████████████▏   | 634kB 12.8MB/s eta 0:00:01\r\u001b[K     |████████████████████████████▊   | 645kB 12.8MB/s eta 0:00:01\r\u001b[K     |█████████████████████████████▏  | 655kB 12.8MB/s eta 0:00:01\r\u001b[K     |█████████████████████████████▋  | 665kB 12.8MB/s eta 0:00:01\r\u001b[K     |██████████████████████████████  | 675kB 12.8MB/s eta 0:00:01\r\u001b[K     |██████████████████████████████▌ | 686kB 12.8MB/s eta 0:00:01\r\u001b[K     |███████████████████████████████ | 696kB 12.8MB/s eta 0:00:01\r\u001b[K     |███████████████████████████████▍| 706kB 12.8MB/s eta 0:00:01\r\u001b[K     |███████████████████████████████▉| 716kB 12.8MB/s eta 0:00:01\r\u001b[K     |████████████████████████████████| 727kB 12.8MB/s \n",
            "\u001b[K     |████████████████████████████████| 194kB 30.1MB/s \n",
            "\u001b[K     |████████████████████████████████| 1.1MB 31.1MB/s \n",
            "\u001b[K     |████████████████████████████████| 51kB 5.9MB/s \n",
            "\u001b[K     |████████████████████████████████| 61kB 9.8MB/s \n",
            "\u001b[?25hMounted at /content/gdrive\n"
          ],
          "name": "stdout"
        }
      ]
    },
    {
      "cell_type": "code",
      "metadata": {
        "id": "VHKOIoyjreoT"
      },
      "source": [
        "from fastbook import *"
      ],
      "execution_count": 2,
      "outputs": []
    },
    {
      "cell_type": "code",
      "metadata": {
        "colab": {
          "base_uri": "https://localhost:8080/",
          "height": 199
        },
        "id": "AU1pGgmu4KTM",
        "outputId": "8f6522fc-4be0-4d7c-abbf-6cfc6233aca2"
      },
      "source": [
        "from fastai.vision.all import *\r\n",
        "path = untar_data(URLs.PETS)/'images'\r\n",
        "\r\n",
        "def is_cat(x): return x[0].isupper()\r\n",
        "\r\n",
        "dls = ImageDataLoaders.from_name_func(\r\n",
        "    path, get_image_files(path), valid_pct=0.2, seed=42, \r\n",
        "    label_func = is_cat, item_tfms=Resize(224)\r\n",
        ")\r\n",
        "\r\n",
        "learn = cnn_learner(dls, resnet34, metrics=error_rate)\r\n",
        "learn.fine_tune(3)"
      ],
      "execution_count": 5,
      "outputs": [
        {
          "output_type": "display_data",
          "data": {
            "text/html": [
              "<table border=\"1\" class=\"dataframe\">\n",
              "  <thead>\n",
              "    <tr style=\"text-align: left;\">\n",
              "      <th>epoch</th>\n",
              "      <th>train_loss</th>\n",
              "      <th>valid_loss</th>\n",
              "      <th>error_rate</th>\n",
              "      <th>time</th>\n",
              "    </tr>\n",
              "  </thead>\n",
              "  <tbody>\n",
              "    <tr>\n",
              "      <td>0</td>\n",
              "      <td>0.177377</td>\n",
              "      <td>0.019197</td>\n",
              "      <td>0.006089</td>\n",
              "      <td>00:45</td>\n",
              "    </tr>\n",
              "  </tbody>\n",
              "</table>"
            ],
            "text/plain": [
              "<IPython.core.display.HTML object>"
            ]
          },
          "metadata": {
            "tags": []
          }
        },
        {
          "output_type": "display_data",
          "data": {
            "text/html": [
              "<table border=\"1\" class=\"dataframe\">\n",
              "  <thead>\n",
              "    <tr style=\"text-align: left;\">\n",
              "      <th>epoch</th>\n",
              "      <th>train_loss</th>\n",
              "      <th>valid_loss</th>\n",
              "      <th>error_rate</th>\n",
              "      <th>time</th>\n",
              "    </tr>\n",
              "  </thead>\n",
              "  <tbody>\n",
              "    <tr>\n",
              "      <td>0</td>\n",
              "      <td>0.074155</td>\n",
              "      <td>0.023644</td>\n",
              "      <td>0.007442</td>\n",
              "      <td>00:47</td>\n",
              "    </tr>\n",
              "    <tr>\n",
              "      <td>1</td>\n",
              "      <td>0.049930</td>\n",
              "      <td>0.012508</td>\n",
              "      <td>0.003383</td>\n",
              "      <td>00:47</td>\n",
              "    </tr>\n",
              "    <tr>\n",
              "      <td>2</td>\n",
              "      <td>0.019439</td>\n",
              "      <td>0.009685</td>\n",
              "      <td>0.002030</td>\n",
              "      <td>00:47</td>\n",
              "    </tr>\n",
              "  </tbody>\n",
              "</table>"
            ],
            "text/plain": [
              "<IPython.core.display.HTML object>"
            ]
          },
          "metadata": {
            "tags": []
          }
        }
      ]
    }
  ]
}